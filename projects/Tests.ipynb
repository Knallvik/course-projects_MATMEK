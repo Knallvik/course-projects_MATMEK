{
 "cells": [
  {
   "cell_type": "code",
   "execution_count": 5,
   "id": "577f9e86-835a-47f0-bcca-ef5daebb688f",
   "metadata": {},
   "outputs": [
    {
     "name": "stdout",
     "output_type": "stream",
     "text": [
      "The autoreload extension is already loaded. To reload it, use:\n",
      "  %reload_ext autoreload\n"
     ]
    }
   ],
   "source": [
    "import numpy as np\n",
    "import mesh_function as mf\n",
    "import differentiate as dif\n",
    "%load_ext autoreload\n",
    "\n",
    "%autoreload 2"
   ]
  },
  {
   "cell_type": "code",
   "execution_count": 6,
   "id": "503a7659-34b7-400b-95f8-1a7eaf3bb2a8",
   "metadata": {},
   "outputs": [
    {
     "name": "stdout",
     "output_type": "stream",
     "text": [
      "[3.67879441e-01 1.35335283e-01 4.97870684e-02 6.14421235e-06]\n",
      "[3.67879441e-01 1.35335283e-01 4.97870684e-02 6.14421235e-06]\n"
     ]
    }
   ],
   "source": [
    "mf.test_mesh_function()"
   ]
  },
  {
   "cell_type": "code",
   "execution_count": 12,
   "id": "6b5a348e-b398-4841-914b-95bd3a6925f1",
   "metadata": {},
   "outputs": [],
   "source": [
    "dif.test_differentiate()"
   ]
  },
  {
   "cell_type": "code",
   "execution_count": null,
   "id": "6ae38104-8fa7-47d2-ab9c-39ed83763208",
   "metadata": {},
   "outputs": [],
   "source": []
  }
 ],
 "metadata": {
  "kernelspec": {
   "display_name": "Python (mat-mek)",
   "language": "python",
   "name": "mat-mek"
  },
  "language_info": {
   "codemirror_mode": {
    "name": "ipython",
    "version": 3
   },
   "file_extension": ".py",
   "mimetype": "text/x-python",
   "name": "python",
   "nbconvert_exporter": "python",
   "pygments_lexer": "ipython3",
   "version": "3.12.4"
  }
 },
 "nbformat": 4,
 "nbformat_minor": 5
}
